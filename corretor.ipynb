{
 "cells": [
  {
   "cell_type": "markdown",
   "id": "caa43372-4f52-44a4-8d46-69e2d4e62bf6",
   "metadata": {},
   "source": [
    "# Visualizando dados"
   ]
  },
  {
   "cell_type": "code",
   "execution_count": 13,
   "id": "1119bb65-9ec4-4e4c-a3c2-7fcde1ae93ef",
   "metadata": {},
   "outputs": [],
   "source": [
    "with open('artigos.txt', 'r', encoding=\"utf8\") as f:\n",
    "    artigos = f.read()"
   ]
  },
  {
   "cell_type": "code",
   "execution_count": 14,
   "id": "1fa85904-547c-438f-8ce2-8e0f3c99d813",
   "metadata": {},
   "outputs": [
    {
     "name": "stdout",
     "output_type": "stream",
     "text": [
      "\n",
      "\n",
      "\n",
      "imagem \n",
      "\n",
      "Temos a seguinte classe que representa um usuário no nosso sistema:\n",
      "\n",
      "java\n",
      "\n",
      "Para salvar um novo usuário, várias validações são feitas, como por exemplo: Ver se o nome só contém letras, [**o CPF só números**] e ver se o usuário possui no mínimo 18 anos. Veja o método que faz essa validação:\n",
      "\n",
      "java \n",
      "\n",
      "Suponha agora que eu tenha outra classe, a classe `Produto`, que contém um atributo nome e eu quero fazer a mesma validação que fiz para o nome do usuário: Ver se só contém letras. E aí? Vou\n"
     ]
    }
   ],
   "source": [
    "print(artigos[:500])"
   ]
  },
  {
   "cell_type": "markdown",
   "id": "bc7cfdc8-8819-430b-97e8-d55c0931a483",
   "metadata": {},
   "source": [
    "# Tokenização"
   ]
  },
  {
   "cell_type": "code",
   "execution_count": 15,
   "id": "e82e0256-d5d3-4f50-84c3-3ad2c8d0f002",
   "metadata": {},
   "outputs": [],
   "source": [
    "import nltk"
   ]
  },
  {
   "cell_type": "code",
   "execution_count": 16,
   "id": "d362d63e-ab45-4850-b336-94b93a1be15f",
   "metadata": {},
   "outputs": [],
   "source": [
    "def separa_palavra(lista_tokens):\n",
    "    lista_palavras = []\n",
    "    for token in lista_tokens:\n",
    "        if token.isalpha():\n",
    "            lista_palavras.append(token)\n",
    "    return lista_palavras"
   ]
  },
  {
   "cell_type": "code",
   "execution_count": 17,
   "id": "ceb134aa-885a-4d12-9176-e6901815eeed",
   "metadata": {},
   "outputs": [],
   "source": [
    "lista_tokens = nltk.tokenize.word_tokenize(artigos)\n",
    "lista_palavras = separa_palavra(lista_tokens)"
   ]
  },
  {
   "cell_type": "code",
   "execution_count": 18,
   "id": "b1bc9dce-a359-4152-9f3b-e7b14415ca2a",
   "metadata": {},
   "outputs": [
    {
     "data": {
      "text/plain": [
       "403106"
      ]
     },
     "execution_count": 18,
     "metadata": {},
     "output_type": "execute_result"
    }
   ],
   "source": [
    "len(lista_palavras)"
   ]
  },
  {
   "cell_type": "code",
   "execution_count": 19,
   "id": "ce30a866-c4c5-4d73-8dc7-f2eb3f05a397",
   "metadata": {},
   "outputs": [
    {
     "name": "stdout",
     "output_type": "stream",
     "text": [
      "['imagem', 'temos', 'a', 'seguinte', 'classe']\n"
     ]
    }
   ],
   "source": [
    "def normalizacao(lista_palavras):\n",
    "    lista_normalizada = []\n",
    "    for palavra in lista_palavras:\n",
    "        lista_normalizada.append(palavra.lower())\n",
    "    return lista_normalizada\n",
    "\n",
    "lista_normalizada = normalizacao(lista_palavras)\n",
    "print(lista_normalizada[:5])"
   ]
  },
  {
   "cell_type": "code",
   "execution_count": 20,
   "id": "3976d386-7ae3-4bb6-a889-26a827c6d0c3",
   "metadata": {},
   "outputs": [
    {
     "data": {
      "text/plain": [
       "18465"
      ]
     },
     "execution_count": 20,
     "metadata": {},
     "output_type": "execute_result"
    }
   ],
   "source": [
    "len(set(lista_normalizada))"
   ]
  },
  {
   "cell_type": "markdown",
   "id": "d9366311-a6c5-4b0f-b214-2c5bbc222140",
   "metadata": {},
   "source": [
    "# Desenvolvendo e testando corretor"
   ]
  },
  {
   "cell_type": "code",
   "execution_count": 21,
   "id": "6d70f483-1da1-4408-a620-ab38a7e7d5ab",
   "metadata": {},
   "outputs": [],
   "source": [
    "palavra_exemplo = \"lgica\""
   ]
  },
  {
   "cell_type": "code",
   "execution_count": 22,
   "id": "5a7f8fd4-c64f-4be2-885e-b1a0d262c97d",
   "metadata": {},
   "outputs": [],
   "source": [
    "def inseri_letra(fatias):\n",
    "    novas_palavras = []\n",
    "    letras = 'abcdefghijklmnopqrstuvwxyzàáâãèéêìíîòóôõùúûç'\n",
    "    for E, D in fatias:\n",
    "        for letra in letras:\n",
    "            novas_palavras.append(E + letra + D)\n",
    "    return novas_palavras"
   ]
  },
  {
   "cell_type": "code",
   "execution_count": 23,
   "id": "3ec70125-8852-44dc-8b5e-2e1d9a1382e4",
   "metadata": {},
   "outputs": [],
   "source": [
    "def gerador_palavra(palavra):\n",
    "    fatias = []\n",
    "    for i in range(len(palavra) + 1):\n",
    "        fatias.append((palavra[:i], palavra[i:]))\n",
    "    palavras_geradas = inseri_letra(fatias)\n",
    "    return palavras_geradas"
   ]
  },
  {
   "cell_type": "code",
   "execution_count": 24,
   "id": "37b15b94-a9aa-4a22-99b2-963e9636eeb9",
   "metadata": {},
   "outputs": [],
   "source": [
    "def corretor(palavra):\n",
    "    palavras_geradas = gerador_palavra(palavra)\n",
    "    palavra_correta = max(palavras_geradas, key=probabilidade)\n",
    "    return palavra_correta\n",
    "    "
   ]
  },
  {
   "cell_type": "code",
   "execution_count": 25,
   "id": "d7f01760-fb7e-4daf-a6b4-bea2d4cec2d4",
   "metadata": {},
   "outputs": [
    {
     "data": {
      "text/plain": [
       "[('de', 15502),\n",
       " ('o', 14056),\n",
       " ('que', 12230),\n",
       " ('a', 11099),\n",
       " ('e', 10501),\n",
       " ('para', 7710),\n",
       " ('um', 6368),\n",
       " ('é', 5899),\n",
       " ('uma', 5220),\n",
       " ('do', 5124)]"
      ]
     },
     "execution_count": 25,
     "metadata": {},
     "output_type": "execute_result"
    }
   ],
   "source": [
    "frequencia = nltk.FreqDist(lista_normalizada)\n",
    "frequencia.most_common(10)"
   ]
  },
  {
   "cell_type": "code",
   "execution_count": 27,
   "id": "c7629840-5c90-4b97-877d-bca321f811ef",
   "metadata": {},
   "outputs": [],
   "source": [
    "total_de_palavras = len(lista_normalizada)"
   ]
  },
  {
   "cell_type": "code",
   "execution_count": 30,
   "id": "2bc4d0aa-a370-4e0d-b5f4-37ac6487b4f2",
   "metadata": {},
   "outputs": [],
   "source": [
    "def probabilidade(palavra_gerada):\n",
    "    return frequencia[palavra_gerada] / total_de_palavras"
   ]
  },
  {
   "cell_type": "code",
   "execution_count": 31,
   "id": "ffeb95f3-42d0-4de7-b17d-6f3eba80497a",
   "metadata": {},
   "outputs": [
    {
     "data": {
      "text/plain": [
       "0.00023815075935361914"
      ]
     },
     "execution_count": 31,
     "metadata": {},
     "output_type": "execute_result"
    }
   ],
   "source": [
    "probabilidade(\"lógica\")"
   ]
  },
  {
   "cell_type": "code",
   "execution_count": 32,
   "id": "e13233e2-bb10-4ddb-a913-398c585931df",
   "metadata": {},
   "outputs": [
    {
     "data": {
      "text/plain": [
       "'lógica'"
      ]
     },
     "execution_count": 32,
     "metadata": {},
     "output_type": "execute_result"
    }
   ],
   "source": [
    "palavra_correta = corretor(\"lgica\")\n",
    "palavra_correta"
   ]
  },
  {
   "cell_type": "code",
   "execution_count": null,
   "id": "a888f024-d4c7-47e9-9157-0a1f52900336",
   "metadata": {},
   "outputs": [],
   "source": []
  }
 ],
 "metadata": {
  "kernelspec": {
   "display_name": "Python 3",
   "language": "python",
   "name": "python3"
  },
  "language_info": {
   "codemirror_mode": {
    "name": "ipython",
    "version": 3
   },
   "file_extension": ".py",
   "mimetype": "text/x-python",
   "name": "python",
   "nbconvert_exporter": "python",
   "pygments_lexer": "ipython3",
   "version": "3.7.9"
  }
 },
 "nbformat": 4,
 "nbformat_minor": 5
}
