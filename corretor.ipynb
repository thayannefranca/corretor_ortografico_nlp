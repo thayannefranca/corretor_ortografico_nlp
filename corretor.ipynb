{
 "cells": [
  {
   "cell_type": "markdown",
   "id": "caa43372-4f52-44a4-8d46-69e2d4e62bf6",
   "metadata": {},
   "source": [
    "# Visualizando dados"
   ]
  },
  {
   "cell_type": "code",
   "execution_count": 1,
   "id": "1119bb65-9ec4-4e4c-a3c2-7fcde1ae93ef",
   "metadata": {},
   "outputs": [],
   "source": [
    "with open('artigos.txt', 'r', encoding=\"utf8\") as f:\n",
    "    artigos = f.read()"
   ]
  },
  {
   "cell_type": "code",
   "execution_count": 2,
   "id": "1fa85904-547c-438f-8ce2-8e0f3c99d813",
   "metadata": {},
   "outputs": [
    {
     "name": "stdout",
     "output_type": "stream",
     "text": [
      "\n",
      "\n",
      "\n",
      "imagem \n",
      "\n",
      "Temos a seguinte classe que representa um usuário no nosso sistema:\n",
      "\n",
      "java\n",
      "\n",
      "Para salvar um novo usuário, várias validações são feitas, como por exemplo: Ver se o nome só contém letras, [**o CPF só números**] e ver se o usuário possui no mínimo 18 anos. Veja o método que faz essa validação:\n",
      "\n",
      "java \n",
      "\n",
      "Suponha agora que eu tenha outra classe, a classe `Produto`, que contém um atributo nome e eu quero fazer a mesma validação que fiz para o nome do usuário: Ver se só contém letras. E aí? Vou\n"
     ]
    }
   ],
   "source": [
    "print(artigos[:500])"
   ]
  },
  {
   "cell_type": "markdown",
   "id": "bc7cfdc8-8819-430b-97e8-d55c0931a483",
   "metadata": {},
   "source": [
    "# Tokenização"
   ]
  },
  {
   "cell_type": "code",
   "execution_count": 3,
   "id": "e82e0256-d5d3-4f50-84c3-3ad2c8d0f002",
   "metadata": {},
   "outputs": [],
   "source": [
    "import nltk"
   ]
  },
  {
   "cell_type": "code",
   "execution_count": 4,
   "id": "d362d63e-ab45-4850-b336-94b93a1be15f",
   "metadata": {},
   "outputs": [],
   "source": [
    "def separa_palavra(lista_tokens):\n",
    "    lista_palavras = []\n",
    "    for token in lista_tokens:\n",
    "        if token.isalpha():\n",
    "            lista_palavras.append(token)\n",
    "    return lista_palavras"
   ]
  },
  {
   "cell_type": "code",
   "execution_count": 5,
   "id": "ceb134aa-885a-4d12-9176-e6901815eeed",
   "metadata": {},
   "outputs": [],
   "source": [
    "lista_tokens = nltk.tokenize.word_tokenize(artigos)\n",
    "lista_palavras = separa_palavra(lista_tokens)"
   ]
  },
  {
   "cell_type": "code",
   "execution_count": 6,
   "id": "b1bc9dce-a359-4152-9f3b-e7b14415ca2a",
   "metadata": {},
   "outputs": [
    {
     "data": {
      "text/plain": [
       "403106"
      ]
     },
     "execution_count": 6,
     "metadata": {},
     "output_type": "execute_result"
    }
   ],
   "source": [
    "len(lista_palavras)"
   ]
  },
  {
   "cell_type": "code",
   "execution_count": 7,
   "id": "ce30a866-c4c5-4d73-8dc7-f2eb3f05a397",
   "metadata": {},
   "outputs": [
    {
     "name": "stdout",
     "output_type": "stream",
     "text": [
      "['imagem', 'temos', 'a', 'seguinte', 'classe']\n"
     ]
    }
   ],
   "source": [
    "def normalizacao(lista_palavras):\n",
    "    lista_normalizada = []\n",
    "    for palavra in lista_palavras:\n",
    "        lista_normalizada.append(palavra.lower())\n",
    "    return lista_normalizada\n",
    "\n",
    "lista_normalizada = normalizacao(lista_palavras)\n",
    "print(lista_normalizada[:5])"
   ]
  },
  {
   "cell_type": "code",
   "execution_count": 8,
   "id": "3976d386-7ae3-4bb6-a889-26a827c6d0c3",
   "metadata": {},
   "outputs": [
    {
     "data": {
      "text/plain": [
       "18465"
      ]
     },
     "execution_count": 8,
     "metadata": {},
     "output_type": "execute_result"
    }
   ],
   "source": [
    "len(set(lista_normalizada))"
   ]
  },
  {
   "cell_type": "markdown",
   "id": "d9366311-a6c5-4b0f-b214-2c5bbc222140",
   "metadata": {},
   "source": [
    "# Desenvolvendo e testando corretor"
   ]
  },
  {
   "cell_type": "code",
   "execution_count": 9,
   "id": "6d70f483-1da1-4408-a620-ab38a7e7d5ab",
   "metadata": {},
   "outputs": [],
   "source": [
    "palavra_exemplo = \"lgica\""
   ]
  },
  {
   "cell_type": "code",
   "execution_count": 10,
   "id": "5a7f8fd4-c64f-4be2-885e-b1a0d262c97d",
   "metadata": {},
   "outputs": [],
   "source": [
    "def inseri_letra(fatias):\n",
    "    novas_palavras = []\n",
    "    letras = 'abcdefghijklmnopqrstuvwxyzàáâãèéêìíîòóôõùúûç'\n",
    "    for E, D in fatias:\n",
    "        for letra in letras:\n",
    "            novas_palavras.append(E + letra + D)\n",
    "    return novas_palavras"
   ]
  },
  {
   "cell_type": "code",
   "execution_count": 31,
   "id": "3ec70125-8852-44dc-8b5e-2e1d9a1382e4",
   "metadata": {},
   "outputs": [],
   "source": [
    "def gerador_palavra(palavra):\n",
    "    fatias = []\n",
    "    for i in range(len(palavra) + 1):\n",
    "        fatias.append((palavra[:i], palavra[i:]))\n",
    "    palavras_geradas = inseri_letra(fatias)\n",
    "    palavras_geradas += deletando_caracteres(fatias)\n",
    "    palavras_geradas += troca_letra(fatias)\n",
    "    palavras_geradas += inverte_letra(fatias)\n",
    "    return palavras_geradas"
   ]
  },
  {
   "cell_type": "code",
   "execution_count": 12,
   "id": "37b15b94-a9aa-4a22-99b2-963e9636eeb9",
   "metadata": {},
   "outputs": [],
   "source": [
    "def corretor(palavra):\n",
    "    palavras_geradas = gerador_palavra(palavra)\n",
    "    palavra_correta = max(palavras_geradas, key=probabilidade)\n",
    "    return palavra_correta\n",
    "    "
   ]
  },
  {
   "cell_type": "code",
   "execution_count": 13,
   "id": "c2c2201e-76d0-4925-b468-529e9d0b2af7",
   "metadata": {},
   "outputs": [],
   "source": [
    "def deletando_caracteres(fatias):\n",
    "    novas_palavras = []\n",
    "    for E, D in fatias:\n",
    "        novas_palavras.append(E + D[1:])\n",
    "    return novas_palavras"
   ]
  },
  {
   "cell_type": "code",
   "execution_count": 14,
   "id": "d7f01760-fb7e-4daf-a6b4-bea2d4cec2d4",
   "metadata": {},
   "outputs": [
    {
     "data": {
      "text/plain": [
       "[('de', 15502),\n",
       " ('o', 14056),\n",
       " ('que', 12230),\n",
       " ('a', 11099),\n",
       " ('e', 10501),\n",
       " ('para', 7710),\n",
       " ('um', 6368),\n",
       " ('é', 5899),\n",
       " ('uma', 5220),\n",
       " ('do', 5124)]"
      ]
     },
     "execution_count": 14,
     "metadata": {},
     "output_type": "execute_result"
    }
   ],
   "source": [
    "frequencia = nltk.FreqDist(lista_normalizada)\n",
    "frequencia.most_common(10)"
   ]
  },
  {
   "cell_type": "code",
   "execution_count": 15,
   "id": "c7629840-5c90-4b97-877d-bca321f811ef",
   "metadata": {},
   "outputs": [],
   "source": [
    "total_de_palavras = len(lista_normalizada)"
   ]
  },
  {
   "cell_type": "code",
   "execution_count": 16,
   "id": "2bc4d0aa-a370-4e0d-b5f4-37ac6487b4f2",
   "metadata": {},
   "outputs": [],
   "source": [
    "def probabilidade(palavra_gerada):\n",
    "    return frequencia[palavra_gerada] / total_de_palavras"
   ]
  },
  {
   "cell_type": "code",
   "execution_count": 17,
   "id": "ffeb95f3-42d0-4de7-b17d-6f3eba80497a",
   "metadata": {},
   "outputs": [
    {
     "data": {
      "text/plain": [
       "0.00023815075935361914"
      ]
     },
     "execution_count": 17,
     "metadata": {},
     "output_type": "execute_result"
    }
   ],
   "source": [
    "probabilidade(\"lógica\")"
   ]
  },
  {
   "cell_type": "code",
   "execution_count": 18,
   "id": "e13233e2-bb10-4ddb-a913-398c585931df",
   "metadata": {},
   "outputs": [
    {
     "data": {
      "text/plain": [
       "'lógica'"
      ]
     },
     "execution_count": 18,
     "metadata": {},
     "output_type": "execute_result"
    }
   ],
   "source": [
    "palavra_correta = corretor(\"lgica\")\n",
    "palavra_correta"
   ]
  },
  {
   "cell_type": "markdown",
   "id": "94b2d9e0-dd11-40d9-9d4f-d5eb878eb00f",
   "metadata": {},
   "source": [
    "# Avaliando corretor"
   ]
  },
  {
   "cell_type": "code",
   "execution_count": 19,
   "id": "c9b193fb-8273-44fd-9a2c-8c175f2a4cfc",
   "metadata": {},
   "outputs": [],
   "source": [
    "def criando_dados_testes(file):\n",
    "    palavras_teste = []\n",
    "    f = open(file, encoding='UTF-8')\n",
    "    for linha in f:\n",
    "        correta, errada = linha.split()\n",
    "        palavras_teste.append((correta, errada))\n",
    "    f.close()   \n",
    "    return palavras_teste"
   ]
  },
  {
   "cell_type": "code",
   "execution_count": 20,
   "id": "e140ed7f-1ee0-4f21-a8b6-88e271369783",
   "metadata": {},
   "outputs": [],
   "source": [
    "palavras_teste = criando_dados_testes(\"palavras.txt\")"
   ]
  },
  {
   "cell_type": "code",
   "execution_count": 37,
   "id": "9278aa3a-0832-4714-bf39-7ffd6f165a43",
   "metadata": {},
   "outputs": [],
   "source": [
    "def avaliador(testes, vocabulario):\n",
    "    numero_palavras = len(testes)\n",
    "    acertou = 0\n",
    "    desconhecida = 0\n",
    "    for correta, errada in testes:\n",
    "        palavra_corrigida = corretor(errada)\n",
    "        if palavra_corrigida == correta:\n",
    "            acertou += 1\n",
    "        else:\n",
    "            desconhecida += (correta not in vocabulario)\n",
    "    taxa_de_acerto = round(acertou * 100/ numero_palavras, 2)\n",
    "    taxa_desconhecida = round(desconhecida * 100/ numero_palavras, 2)\n",
    "    print(f\"{taxa_de_acerto}% de {numero_palavras} palavras\")"
   ]
  },
  {
   "cell_type": "code",
   "execution_count": 22,
   "id": "164fa728-9ef8-406c-b4ca-36994da44fea",
   "metadata": {},
   "outputs": [
    {
     "name": "stdout",
     "output_type": "stream",
     "text": [
      "41.4% de 186 palavras\n"
     ]
    }
   ],
   "source": [
    "avaliador(palavras_teste)"
   ]
  },
  {
   "cell_type": "markdown",
   "id": "dd3a4da5-e220-486c-814a-0765288ae5c4",
   "metadata": {},
   "source": [
    "# Corrigindo os principais erros de digitação"
   ]
  },
  {
   "cell_type": "markdown",
   "id": "d618a934-37cd-4060-bd8f-6c78fe9e935f",
   "metadata": {},
   "source": [
    "### Trocando a letra"
   ]
  },
  {
   "cell_type": "code",
   "execution_count": 32,
   "id": "2a28b944-2209-4e1e-8147-4385d226a0dd",
   "metadata": {},
   "outputs": [],
   "source": [
    "def troca_letra(fatias):\n",
    "    novas_palavras = []\n",
    "    letras = 'abcdefghijklmnopqrstuvwxyzáàãâéèêíìóòõôúùûç'\n",
    "    for E, D in fatias:\n",
    "        for letra in letras:\n",
    "            novas_palavras.append(E + letra + D[1:])\n",
    "    return novas_palavras\n",
    "\n"
   ]
  },
  {
   "cell_type": "markdown",
   "id": "7b3f2192-71f6-4c89-9089-8379f6cad39d",
   "metadata": {},
   "source": [
    "### Invertendo as letras"
   ]
  },
  {
   "cell_type": "code",
   "execution_count": 35,
   "id": "ac2bbca2-e0bf-4d9f-b79e-60ec627f55c4",
   "metadata": {},
   "outputs": [],
   "source": [
    "def inverte_letra(fatias):\n",
    "    novas_palavras = []\n",
    "    for E, D in fatias:\n",
    "        if len(D) > 1: \n",
    "            novas_palavras.append(E + D[1] + D[0] + D[2:])\n",
    "    return novas_palavras"
   ]
  },
  {
   "cell_type": "code",
   "execution_count": 36,
   "id": "9a620d51-da2d-4181-9ce9-ff15ba21c709",
   "metadata": {},
   "outputs": [
    {
     "name": "stdout",
     "output_type": "stream",
     "text": [
      "76.34% de 186 palavras\n"
     ]
    }
   ],
   "source": [
    "avaliador(palavras_teste)"
   ]
  },
  {
   "cell_type": "markdown",
   "id": "a6e5710a-3f03-4567-92a4-beeaf2349b7c",
   "metadata": {},
   "source": [
    "# Turbinando corretor"
   ]
  },
  {
   "cell_type": "code",
   "execution_count": null,
   "id": "5912e6cd-d586-4113-a029-443b6ef6a86f",
   "metadata": {},
   "outputs": [],
   "source": [
    "#"
   ]
  }
 ],
 "metadata": {
  "kernelspec": {
   "display_name": "Python 3",
   "language": "python",
   "name": "python3"
  },
  "language_info": {
   "codemirror_mode": {
    "name": "ipython",
    "version": 3
   },
   "file_extension": ".py",
   "mimetype": "text/x-python",
   "name": "python",
   "nbconvert_exporter": "python",
   "pygments_lexer": "ipython3",
   "version": "3.7.9"
  }
 },
 "nbformat": 4,
 "nbformat_minor": 5
}
